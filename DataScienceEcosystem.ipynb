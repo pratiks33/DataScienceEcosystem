{
 "cells": [
  {
   "cell_type": "code",
   "execution_count": null,
   "id": "f1842bf3",
   "metadata": {},
   "outputs": [],
   "source": [
    "# Data Science Tools and Ecosystem\n",
    "In this notebook, Data Science Tools and Ecosystem are summarized.\n",
    "<br>\n",
    "Some of the popular languages that Data Scientists use are:\n",
    "<ol>\n",
    "    <li>Python</li>\n",
    "    <li>R</li>\n",
    "    <li>SQL</li>\n",
    "    <li>Scala</li>\n",
    "    <li>Julia</li>\n",
    "    <li>C/C++</li>\n",
    "    <li>Java</li>\n",
    "    </ol>\n",
    "    \n",
    "    \n",
    "    \n",
    "    Some of the commonly used libraries used by Data Scientists include:\n",
    "        \n",
    "<ol>\n",
    "<li>pandas</li>\n",
    "<li>numpy</li>\n",
    "<li>scipy</li>\n",
    "<li>sklearn</li>\n",
    "<li>OpenCV</li>\n",
    "<li>Tensorflow</li>\n",
    "<li>pytorch</li>\n",
    "<li>tqdm.</li>\n",
    "</ol> \n",
    "\n",
    "\n",
    "\n",
    "Data Science Tools\n",
    "<ol>\n",
    "<li>Python</li>\n",
    "<li>R</li>\n",
    "<li>Tensorflow</li>\n",
    "<li>Keras</li>\n",
    "<li>MySQL</li>\n",
    "<li>NLTK</li>\n",
    "<li>Opencv</li>\n",
    "<li>Jupyter Notebook</li>\n",
    "</ol>\n",
    "\n",
    "\n",
    "<h3>Below are a few examples of evaluating arithmetic expressions in Python</h3>\n"
   ]
  },
  {
   "cell_type": "markdown",
   "id": "f8273d3d",
   "metadata": {},
   "source": [
    "# Data Science Tools and Ecosystem"
   ]
  },
  {
   "cell_type": "markdown",
   "id": "81a5f5cd",
   "metadata": {},
   "source": [
    "In this notebook, Data Science Tools and Ecosystem are summarized."
   ]
  },
  {
   "cell_type": "markdown",
   "id": "db64c5bd",
   "metadata": {},
   "source": [
    "Some of the popular languages that Data Scientists use are:\n",
    "<ol>\n",
    "    <li>Python</li>\n",
    "    <li>R</li>\n",
    "    <li>SQL</li>\n",
    "    <li>Scala</li>\n",
    "    <li>Julia</li>\n",
    "    <li>C/C++</li>\n",
    "    <li>Java</li>\n",
    "    </ol>"
   ]
  },
  {
   "cell_type": "markdown",
   "id": "181b9c22",
   "metadata": {},
   "source": [
    "Some of the commonly used libraries used by Data Scientists include:\n",
    "        \n",
    "<ol>\n",
    "<li>pandas</li>\n",
    "<li>numpy</li>\n",
    "<li>scipy</li>\n",
    "<li>sklearn</li>\n",
    "<li>OpenCV</li>\n",
    "<li>Tensorflow</li>\n",
    "<li>pytorch</li>\n",
    "<li>tqdm.</li>\n",
    "</ol> "
   ]
  },
  {
   "cell_type": "markdown",
   "id": "0d562c08",
   "metadata": {},
   "source": [
    "Data Science Tools\n",
    "<ol>\n",
    "<li>Python</li>\n",
    "<li>R</li>\n",
    "<li>Tensorflow</li>\n",
    "<li>Keras</li>\n",
    "<li>MySQL</li>\n",
    "<li>NLTK</li>\n",
    "<li>Opencv</li>\n",
    "<li>Jupyter Notebook</li>\n",
    "</ol>"
   ]
  },
  {
   "cell_type": "markdown",
   "id": "a6703878",
   "metadata": {},
   "source": [
    "<h3>Below are a few examples of evaluating arithmetic expressions in Python</h3>"
   ]
  },
  {
   "cell_type": "code",
   "execution_count": 8,
   "id": "9e4b3f93",
   "metadata": {},
   "outputs": [
    {
     "data": {
      "text/plain": [
       "17"
      ]
     },
     "execution_count": 8,
     "metadata": {},
     "output_type": "execute_result"
    }
   ],
   "source": [
    "(3*4)+5"
   ]
  },
  {
   "cell_type": "code",
   "execution_count": 12,
   "id": "e9975926",
   "metadata": {},
   "outputs": [
    {
     "data": {
      "text/plain": [
       "3.333"
      ]
     },
     "execution_count": 12,
     "metadata": {},
     "output_type": "execute_result"
    }
   ],
   "source": [
    "round(200/60,3)\n",
    "# This will convert 200 minutes to hours by diving by 60"
   ]
  },
  {
   "cell_type": "markdown",
   "id": "0764f511",
   "metadata": {},
   "source": [
    "<b>Objectives</b>\n",
    "<ul>\n",
    "<li>Create a Jupyter Notebook</li>\n",
    "<li>Insert code and markdown cells</li>\n",
    "<li>Share your notebook through GitHub</li>\n",
    "</ul>"
   ]
  },
  {
   "cell_type": "markdown",
   "id": "4e265cef",
   "metadata": {},
   "source": [
    "<h2>Author: Pratik</h2>"
   ]
  }
 ],
 "metadata": {
  "kernelspec": {
   "display_name": "Python 3 (ipykernel)",
   "language": "python",
   "name": "python3"
  },
  "language_info": {
   "codemirror_mode": {
    "name": "ipython",
    "version": 3
   },
   "file_extension": ".py",
   "mimetype": "text/x-python",
   "name": "python",
   "nbconvert_exporter": "python",
   "pygments_lexer": "ipython3",
   "version": "3.9.13"
  }
 },
 "nbformat": 4,
 "nbformat_minor": 5
}
